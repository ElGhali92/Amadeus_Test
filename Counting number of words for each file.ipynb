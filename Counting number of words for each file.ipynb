{
 "cells": [
  {
   "cell_type": "code",
   "execution_count": 3,
   "metadata": {
    "collapsed": true
   },
   "outputs": [],
   "source": [
    "def count(l):\n",
    "    words = l.split(\"^\")\n",
    "    words = list(filter(None, words))\n",
    "    return len(words)"
   ]
  },
  {
   "cell_type": "code",
   "execution_count": 1,
   "metadata": {
    "collapsed": true
   },
   "outputs": [],
   "source": [
    "import os"
   ]
  },
  {
   "cell_type": "code",
   "execution_count": 25,
   "metadata": {
    "collapsed": false
   },
   "outputs": [],
   "source": [
    "path1 = \"/Users/driss/Downloads/test_files/bookings/\"\n",
    "acc1 = sc.accumulator(0)\n",
    "for filename in os.listdir(path1):\n",
    "    booking = sc.textFile(path1 + filename)\n",
    "    booking.unpersist()\n",
    "    linesCount = booking.map(count)\n",
    "    r = linesCount.reduce(lambda x,y : x + y)\n",
    "    acc1 += r\n",
    "    acc1"
   ]
  },
  {
   "cell_type": "code",
   "execution_count": 26,
   "metadata": {
    "collapsed": false
   },
   "outputs": [
    {
     "data": {
      "text/plain": [
       "Accumulator<id=9, value=380000412>"
      ]
     },
     "execution_count": 26,
     "metadata": {},
     "output_type": "execute_result"
    }
   ],
   "source": [
    "acc1"
   ]
  },
  {
   "cell_type": "code",
   "execution_count": 27,
   "metadata": {
    "collapsed": true
   },
   "outputs": [],
   "source": [
    "path2 = \"/Users/driss/Downloads/test_files/searches/\"\n",
    "acc2 = sc.accumulator(0)\n",
    "for filename in os.listdir(path2):\n",
    "    search = sc.textFile(path2 + filename)\n",
    "    search.unpersist()\n",
    "    linesCount = search.map(count)\n",
    "    r2 = linesCount.reduce(lambda x,y : x + y)\n",
    "    acc2 += r2\n",
    "    acc2"
   ]
  },
  {
   "cell_type": "code",
   "execution_count": 28,
   "metadata": {
    "collapsed": false
   },
   "outputs": [
    {
     "data": {
      "text/plain": [
       "Accumulator<id=10, value=437605318>"
      ]
     },
     "execution_count": 28,
     "metadata": {},
     "output_type": "execute_result"
    }
   ],
   "source": [
    "acc2"
   ]
  }
 ],
 "metadata": {
  "kernelspec": {
   "display_name": "Python 2",
   "language": "python",
   "name": "python2"
  },
  "language_info": {
   "codemirror_mode": {
    "name": "ipython",
    "version": 2
   },
   "file_extension": ".py",
   "mimetype": "text/x-python",
   "name": "python",
   "nbconvert_exporter": "python",
   "pygments_lexer": "ipython2",
   "version": "2.7.11"
  }
 },
 "nbformat": 4,
 "nbformat_minor": 0
}
