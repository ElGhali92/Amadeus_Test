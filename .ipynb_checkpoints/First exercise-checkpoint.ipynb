{
 "cells": [
  {
   "cell_type": "markdown",
   "metadata": {},
   "source": [
    "### First exercise\n",
    "\n",
    "The aim of this exercise is to count the number of lines for each file"
   ]
  },
  {
   "cell_type": "code",
   "execution_count": 1,
   "metadata": {
    "collapsed": true
   },
   "outputs": [],
   "source": [
    "import os"
   ]
  },
  {
   "cell_type": "code",
   "execution_count": 2,
   "metadata": {
    "collapsed": true
   },
   "outputs": [],
   "source": [
    "# Use a sample first to count the lines of the sample\n",
    "sample2 = sc.textFile(\"/users/driss/Downloads/sample/sample2.csv\")"
   ]
  },
  {
   "cell_type": "code",
   "execution_count": 3,
   "metadata": {
    "collapsed": false
   },
   "outputs": [
    {
     "data": {
      "text/plain": [
       "10"
      ]
     },
     "execution_count": 3,
     "metadata": {},
     "output_type": "execute_result"
    }
   ],
   "source": [
    "sample2.count()"
   ]
  },
  {
   "cell_type": "code",
   "execution_count": 5,
   "metadata": {
    "collapsed": false
   },
   "outputs": [],
   "source": [
    "'''\n",
    "Divide the bookings file into ten files and count the number of lines for each file\n",
    "Use an acuumulator variable to get the total number of lines for the entire file\n",
    "'''\n",
    "path = \"/Users/driss/Downloads/test_files/bookings/\"\n",
    "bookingLinesCount = sc.accumulator(0)\n",
    "for filename in os.listdir(path):\n",
    "    booking = sc.textFile(path + filename)\n",
    "    booking.unpersist()\n",
    "    c = booking.count()\n",
    "    bookingLinesCount += c"
   ]
  },
  {
   "cell_type": "code",
   "execution_count": 6,
   "metadata": {
    "collapsed": false
   },
   "outputs": [
    {
     "data": {
      "text/plain": [
       "Accumulator<id=1, value=10000011>"
      ]
     },
     "execution_count": 6,
     "metadata": {},
     "output_type": "execute_result"
    }
   ],
   "source": [
    "bookingLinesCount"
   ]
  },
  {
   "cell_type": "code",
   "execution_count": 8,
   "metadata": {
    "collapsed": false
   },
   "outputs": [],
   "source": [
    "'''\n",
    "Divide the searching file into ten files and count the number of lines for each file\n",
    "Use an acuumulator variable to get the total number of lines for the entire file\n",
    "'''\n",
    "path = \"/Users/driss/Downloads/test_files/searches/\"\n",
    "searchesLinesCount = sc.accumulator(0)\n",
    "for filename in os.listdir(path):\n",
    "    search = sc.textFile(path + filename)\n",
    "    search.unpersist()\n",
    "    c = search.count()\n",
    "    searchesLinesCount += c"
   ]
  },
  {
   "cell_type": "code",
   "execution_count": 9,
   "metadata": {
    "collapsed": false
   },
   "outputs": [
    {
     "data": {
      "text/plain": [
       "Accumulator<id=3, value=20390198>"
      ]
     },
     "execution_count": 9,
     "metadata": {},
     "output_type": "execute_result"
    }
   ],
   "source": [
    "searchesLinesCount"
   ]
  }
 ],
 "metadata": {
  "kernelspec": {
   "display_name": "Python 2",
   "language": "python",
   "name": "python2"
  },
  "language_info": {
   "codemirror_mode": {
    "name": "ipython",
    "version": 2
   },
   "file_extension": ".py",
   "mimetype": "text/x-python",
   "name": "python",
   "nbconvert_exporter": "python",
   "pygments_lexer": "ipython2",
   "version": "2.7.11"
  }
 },
 "nbformat": 4,
 "nbformat_minor": 0
}
