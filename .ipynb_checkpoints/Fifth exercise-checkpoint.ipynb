{
 "cells": [
  {
   "cell_type": "code",
   "execution_count": 1,
   "metadata": {
    "collapsed": false
   },
   "outputs": [],
   "source": [
    "import os\n",
    "import sys"
   ]
  },
  {
   "cell_type": "code",
   "execution_count": 2,
   "metadata": {
    "collapsed": true
   },
   "outputs": [],
   "source": [
    "import pandas as pd"
   ]
  },
  {
   "cell_type": "code",
   "execution_count": 3,
   "metadata": {
    "collapsed": false
   },
   "outputs": [],
   "source": [
    "# Add the web module to the system path\n",
    "sys.path.append(\"./anaconda/lib/python2.7/site-packages/web.py-0.38-py2.7.egg\")"
   ]
  },
  {
   "cell_type": "code",
   "execution_count": 4,
   "metadata": {
    "collapsed": true
   },
   "outputs": [],
   "source": [
    "import web"
   ]
  },
  {
   "cell_type": "code",
   "execution_count": 5,
   "metadata": {
    "collapsed": true
   },
   "outputs": [],
   "source": [
    "import json"
   ]
  },
  {
   "cell_type": "code",
   "execution_count": null,
   "metadata": {
    "collapsed": false
   },
   "outputs": [
    {
     "name": "stdout",
     "output_type": "stream",
     "text": [
      "http://0.0.0.0:8080/\n"
     ]
    },
    {
     "name": "stderr",
     "output_type": "stream",
     "text": [
      "127.0.0.1:55436 - - [09/Jul/2016 17:27:59] \"HTTP/1.1 GET /top_airports20\" - 404 Not Found\n",
      "127.0.0.1:55436 - - [09/Jul/2016 17:27:59] \"HTTP/1.1 GET /favicon.ico\" - 404 Not Found\n",
      "127.0.0.1:55438 - - [09/Jul/2016 17:28:21] \"HTTP/1.1 GET /top_airports/20\" - 200 OK\n"
     ]
    }
   ],
   "source": [
    "## Import the csv file for the airports ranked decreasingly based on the number of passengers\n",
    "## Define a class top to get the top x airports, x given in the URL \n",
    "## Define a function toJson to transform a dataframe to json format\n",
    "## Define a class WebApplication that inherits from the web.application class to redefine the run function for the web application app \n",
    "top_airports = pd.read_csv('/users/driss/Downloads/Test/top_airports.csv', sep = \",\")\n",
    "size = len(top_airports.index)\n",
    "\n",
    "class WebApplication(web.application): \n",
    "          def run(self, port=8080, *middleware): \n",
    "              func = self.wsgifunc(*middleware) \n",
    "              return web.httpserver.runsimple(func, ('0.0.0.0', port)) \n",
    "\n",
    "urls = (\n",
    "    '/top_airports/(.*)', 'Top'\n",
    ")\n",
    "\n",
    "def toJson(df):\n",
    "    \n",
    "    d = [ \n",
    "        dict([\n",
    "            (colname, row[i]) \n",
    "            for i,colname in enumerate(df.columns)\n",
    "        ])\n",
    "        for row in df.values\n",
    "    ]\n",
    "    return json.dumps(d)\n",
    "\n",
    "app = WebApplication(urls, globals())\n",
    "\n",
    "class Top:\n",
    "    def GET(self, nb_param):\n",
    "        n = int(nb_param)\n",
    "        if n <= 0:\n",
    "            n = 0\n",
    "        if n > size:\n",
    "            n = size\n",
    "        topn = top_airports[:n]\n",
    "        return toJson(topn)\n",
    "    \n",
    "app.run()"
   ]
  }
 ],
 "metadata": {
  "kernelspec": {
   "display_name": "Python 2",
   "language": "python",
   "name": "python2"
  },
  "language_info": {
   "codemirror_mode": {
    "name": "ipython",
    "version": 2
   },
   "file_extension": ".py",
   "mimetype": "text/x-python",
   "name": "python",
   "nbconvert_exporter": "python",
   "pygments_lexer": "ipython2",
   "version": "2.7.11"
  }
 },
 "nbformat": 4,
 "nbformat_minor": 0
}
